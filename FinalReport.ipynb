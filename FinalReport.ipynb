{
 "cells": [
  {
   "cell_type": "markdown",
   "id": "a9b8fb89-9825-4c36-a45e-cbd1c43d5304",
   "metadata": {},
   "source": [
    "# Best Pittsburgh Neighboorhood"
   ]
  },
  {
   "cell_type": "markdown",
   "id": "c772ec65-3926-4f8d-96a5-706a53cd74f9",
   "metadata": {},
   "source": [
    "## Team Stuff"
   ]
  },
  {
   "cell_type": "markdown",
   "id": "44c098f2-8de6-4c39-8a90-e8f55ba519bd",
   "metadata": {},
   "source": [
    "#### Introduction:"
   ]
  },
  {
   "cell_type": "markdown",
   "id": "7989e046-7caa-403d-b8f4-404d108214dc",
   "metadata": {},
   "source": [
    "Datasets used:\n",
    "- [Arrests.csv](https://data.wprdc.org/dataset/non-traffic-citations)\n",
    "- [educational-attainment.csv](https://data.wprdc.org/dataset/pittsburgh-american-community-survey-2015-miscellaneous-data/resource/12535b2e-6180-4cdf-b7d8-ec5294259e49)\n",
    "- [GunSeizures.csv](https://data.wprdc.org/dataset/pbp-fire-arm-seizures)"
   ]
  },
  {
   "cell_type": "code",
   "execution_count": null,
   "id": "a437bcfa-9399-417d-9dfa-cbca6f8fb1cb",
   "metadata": {},
   "outputs": [],
   "source": []
  }
 ],
 "metadata": {
  "kernelspec": {
   "display_name": "Python 3 (ipykernel)",
   "language": "python",
   "name": "python3"
  },
  "language_info": {
   "codemirror_mode": {
    "name": "ipython",
    "version": 3
   },
   "file_extension": ".py",
   "mimetype": "text/x-python",
   "name": "python",
   "nbconvert_exporter": "python",
   "pygments_lexer": "ipython3",
   "version": "3.12.4"
  }
 },
 "nbformat": 4,
 "nbformat_minor": 5
}
